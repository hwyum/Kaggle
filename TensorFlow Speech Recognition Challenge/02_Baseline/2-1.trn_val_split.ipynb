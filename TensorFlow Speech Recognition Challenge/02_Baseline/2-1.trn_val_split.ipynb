{
 "cells": [
  {
   "cell_type": "markdown",
   "metadata": {},
   "source": [
    "## Baseline Model"
   ]
  },
  {
   "cell_type": "markdown",
   "metadata": {},
   "source": [
    "### 1. 교차 검증 준비\n",
    "#### 훈련 데이터를 화자 기준 9:1 비율로 훈련-검증 데이터 생성함\n",
    "* trn.txt: 교체 검증에 사용할 훈련 데이터의 경로와 정답값을,\n",
    "* val.txt: 교차 검증에 사용할 검증 데이터의 경로와 정답값 저장함"
   ]
  },
  {
   "cell_type": "code",
   "execution_count": 1,
   "metadata": {},
   "outputs": [],
   "source": [
    "# 10개의 label과 데이터 경로를 지정한다\n",
    "labels = ['yes', 'no', 'up', 'down', 'left', 'right', 'on', 'off', 'stop', 'go']\n",
    "data_path = '../data/' "
   ]
  },
  {
   "cell_type": "code",
   "execution_count": 2,
   "metadata": {},
   "outputs": [],
   "source": [
    "from glob import glob\n",
    "import random\n",
    "import os\n",
    "import numpy as np\n",
    "\n",
    "SEED = 2018"
   ]
  },
  {
   "cell_type": "code",
   "execution_count": 3,
   "metadata": {},
   "outputs": [],
   "source": [
    "# 리스트를 랜덤하게 셔플하는 함수이다\n",
    "def random_shuffle(lst):\n",
    "    random.seed(SEED)\n",
    "    random.shuffle(lst)\n",
    "    return lst"
   ]
  },
  {
   "cell_type": "code",
   "execution_count": 17,
   "metadata": {},
   "outputs": [],
   "source": [
    "# 텍스트 파일을 저장할 폴더를 생성한다.\n",
    "if not os.path.exists('input'):\n",
    "    os.mkdir('input')"
   ]
  },
  {
   "cell_type": "code",
   "execution_count": 18,
   "metadata": {},
   "outputs": [],
   "source": [
    "# 훈련 데이터 전체를 먼저 trn_all.txt에 저장한다\n",
    "trn_all = []\n",
    "trn_all_file = open('input/trn_all.txt', 'w')"
   ]
  },
  {
   "cell_type": "code",
   "execution_count": 21,
   "metadata": {},
   "outputs": [],
   "source": [
    "# 제공된 훈련 데이터 경로를 모두 읽어온다\n",
    "files = glob(data_path + 'train/audio/*/*.wav')"
   ]
  },
  {
   "cell_type": "code",
   "execution_count": 23,
   "metadata": {},
   "outputs": [],
   "source": [
    "for f in files:\n",
    "    # 배경 소음은 skip한다\n",
    "    if '_background_noise_' in f:\n",
    "        continue\n",
    "\n",
    "    # 정답값(label)과 화자(speaker)정보를 파일명에서 추출한다\n",
    "    label = f.split('/')[-2]\n",
    "    speaker = f.split('/')[-1].split('_')[0]\n",
    "    \n",
    "    if label not in labels:\n",
    "        # 10개의 label외 데이터는 20%의 확률로 unknown으로 분류하여 추가한다 --> 왜 20%의 확률로, unknown으로 분류?\n",
    "        label = 'unknown'\n",
    "        if random.random() < 0.2:\n",
    "            trn_all.append((label, speaker, f))\n",
    "            trn_all_file.write('{},{},{}\\n'.format(label, speaker, f))\n",
    "    else:\n",
    "        trn_all.append((label, speaker, f))\n",
    "        trn_all_file.write('{},{},{}\\n'.format(label, speaker, f))\n",
    "trn_all_file.close()"
   ]
  },
  {
   "cell_type": "code",
   "execution_count": 24,
   "metadata": {},
   "outputs": [],
   "source": [
    "# 훈련 데이터를 화자 기반 9:1 비율로 분리한다\n",
    "uniq_speakers = list(set([speaker for (label, speaker, path) in trn_all]))\n",
    "random_shuffle(uniq_speakers)\n",
    "cutoff = int(len(uniq_speakers) * 0.9)\n",
    "speaker_val = uniq_speakers[cutoff:]"
   ]
  },
  {
   "cell_type": "code",
   "execution_count": 25,
   "metadata": {},
   "outputs": [],
   "source": [
    "# 교차 검증용 파일을 생성한다\n",
    "trn_file = open('input/trn.txt', 'w')\n",
    "val_file = open('input/val.txt', 'w')\n",
    "\n",
    "for (label, speaker, path) in trn_all:\n",
    "    if speaker not in speaker_val:\n",
    "        trn_file.write('{},{},{}\\n'.format(label, speaker, path))\n",
    "    else:\n",
    "        val_file.write('{},{},{}\\n'.format(label, speaker, path))\n",
    "trn_file.close()\n",
    "val_file.close()\n",
    "\n",
    "# 테스트 데이터에 대해서도 텍스트 파일을 생성한다\n",
    "tst_all_file = open('input/tst.txt', 'w')\n",
    "files = glob(data_path + 'test/audio/*.wav')\n",
    "for f in files:\n",
    "    tst_all_file.write(',,{}\\n'.format(f))\n",
    "tst_all_file.close()"
   ]
  },
  {
   "cell_type": "code",
   "execution_count": null,
   "metadata": {},
   "outputs": [],
   "source": []
  }
 ],
 "metadata": {
  "kernelspec": {
   "display_name": "Python 3",
   "language": "python",
   "name": "python3"
  },
  "language_info": {
   "codemirror_mode": {
    "name": "ipython",
    "version": 3
   },
   "file_extension": ".py",
   "mimetype": "text/x-python",
   "name": "python",
   "nbconvert_exporter": "python",
   "pygments_lexer": "ipython3",
   "version": "3.6.6"
  }
 },
 "nbformat": 4,
 "nbformat_minor": 2
}
